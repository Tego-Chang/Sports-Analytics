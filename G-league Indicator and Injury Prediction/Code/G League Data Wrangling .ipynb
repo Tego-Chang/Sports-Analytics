{
 "cells": [
  {
   "cell_type": "code",
   "execution_count": 1,
   "id": "4e5e94e7",
   "metadata": {},
   "outputs": [],
   "source": [
    "import pandas as pd\n",
    "import numpy as np"
   ]
  },
  {
   "cell_type": "markdown",
   "id": "71b75329",
   "metadata": {},
   "source": [
    "### 2021-2022"
   ]
  },
  {
   "cell_type": "code",
   "execution_count": 13,
   "id": "aea9554a",
   "metadata": {},
   "outputs": [],
   "source": [
    "df_21_trad_tw = pd.read_csv(\"./Data/tw_trad/2021-22_twoWay_trad.csv\")\n",
    "df_21_trad_tw.drop(['Unnamed: 0', 'TEAM'], axis = 1, inplace = True)\n",
    "df_21_trad_tw.dropna(inplace = True)\n",
    "\n",
    "df_21_adv_tw = pd.read_csv(\"./Data/tw_adv/2021-22_twoWay_adv.csv\")\n",
    "df_21_adv_tw.drop(['Unnamed: 0', 'TEAM'], axis = 1, inplace = True)\n",
    "df_21_adv_tw.dropna(inplace = True)\n",
    "\n",
    "df_21_tw = df_21_trad_tw.merge(df_21_adv_tw, on=['PLAYER','AGE','GP','W','L','MIN'])\n",
    "\n",
    "df_21_trad = pd.read_csv(\"./Data/trad/2021-22_all_trad.csv\")\n",
    "df_21_trad.drop(['Unnamed: 0','TEAM'], axis = 1, inplace = True)\n",
    "df_21_trad.dropna(inplace = True)\n",
    "\n",
    "df_21_adv = pd.read_csv(\"./Data/adv/2021-22_all_adv.csv\")\n",
    "df_21_adv.drop(['Unnamed: 0', 'TEAM'], axis = 1, inplace = True)\n",
    "df_21_adv.dropna(inplace = True)\n",
    "\n",
    "df_21 = df_21_trad.merge(df_21_adv, on=['PLAYER','AGE','GP','W','L','MIN'])\n",
    "\n",
    "df_21 = df_21[~df_21.PLAYER.isin(df_21_tw.PLAYER)]\n",
    "\n",
    "df_21_tw.drop('PLAYER', axis = 1, inplace = True)\n",
    "df_21.drop('PLAYER', axis = 1, inplace = True)"
   ]
  },
  {
   "cell_type": "code",
   "execution_count": 15,
   "id": "943cddc4",
   "metadata": {},
   "outputs": [
    {
     "data": {
      "text/plain": [
       "416"
      ]
     },
     "execution_count": 15,
     "metadata": {},
     "output_type": "execute_result"
    }
   ],
   "source": [
    "len(df_21_tw)\n",
    "len(df_21)"
   ]
  },
  {
   "cell_type": "markdown",
   "id": "fb86d280",
   "metadata": {},
   "source": [
    "### 2020-2021"
   ]
  },
  {
   "cell_type": "code",
   "execution_count": 16,
   "id": "2354131d",
   "metadata": {},
   "outputs": [],
   "source": [
    "df_20_trad_tw = pd.read_csv(\"./Data/tw_trad/2020-21_twoWay_trad.csv\")\n",
    "df_20_trad_tw.drop(['Unnamed: 0', 'TEAM'], axis = 1, inplace = True)\n",
    "df_20_trad_tw.dropna(inplace = True)\n",
    "\n",
    "df_20_adv_tw = pd.read_csv(\"./Data/tw_adv/2020-21_twoWay_adv.csv\")\n",
    "df_20_adv_tw.drop(['Unnamed: 0', 'TEAM'], axis = 1, inplace = True)\n",
    "df_20_adv_tw.dropna(inplace = True)\n",
    "\n",
    "df_20_tw = df_20_trad_tw.merge(df_20_adv_tw, on=['PLAYER','AGE','GP','W','L','MIN'])\n",
    "\n",
    "df_20_trad = pd.read_csv(\"./Data/trad/2020-21_all_trad.csv\")\n",
    "df_20_trad.drop(['Unnamed: 0','TEAM'], axis = 1, inplace = True)\n",
    "df_20_trad.dropna(inplace = True)\n",
    "\n",
    "df_20_adv = pd.read_csv(\"./Data/adv/2020-21_all_adv.csv\")\n",
    "df_20_adv.drop(['Unnamed: 0', 'TEAM'], axis = 1, inplace = True)\n",
    "df_20_adv.dropna(inplace = True)\n",
    "\n",
    "df_20 = df_20_trad.merge(df_20_adv, on=['PLAYER','AGE','GP','W','L','MIN'])\n",
    "\n",
    "df_20 = df_20[~df_20.PLAYER.isin(df_20_tw.PLAYER)]\n",
    "\n",
    "df_20_tw.drop('PLAYER', axis = 1, inplace = True)\n",
    "df_20.drop('PLAYER', axis = 1, inplace = True)"
   ]
  },
  {
   "cell_type": "code",
   "execution_count": 18,
   "id": "730b7702",
   "metadata": {},
   "outputs": [
    {
     "data": {
      "text/plain": [
       "14"
      ]
     },
     "execution_count": 18,
     "metadata": {},
     "output_type": "execute_result"
    }
   ],
   "source": [
    "len(df_20)\n",
    "len(df_20_tw)"
   ]
  },
  {
   "cell_type": "markdown",
   "id": "184f35f2",
   "metadata": {},
   "source": [
    "### 2019-2020"
   ]
  },
  {
   "cell_type": "code",
   "execution_count": 19,
   "id": "41803db7",
   "metadata": {},
   "outputs": [],
   "source": [
    "df_19_trad_tw = pd.read_csv(\"./Data/tw_trad/2019-20_twoWay_trad.csv\")\n",
    "df_19_trad_tw.drop(['Unnamed: 0', 'TEAM'], axis = 1, inplace = True)\n",
    "df_19_trad_tw.dropna(inplace = True)\n",
    "\n",
    "df_19_adv_tw = pd.read_csv(\"./Data/tw_adv/2019-20_twoWay_adv.csv\")\n",
    "df_19_adv_tw.drop(['Unnamed: 0', 'TEAM'], axis = 1, inplace = True)\n",
    "df_19_adv_tw.dropna(inplace = True)\n",
    "\n",
    "df_19_tw = df_19_trad_tw.merge(df_19_adv_tw, on=['PLAYER','AGE','GP','W','L','MIN'])\n",
    "\n",
    "df_19_trad = pd.read_csv(\"./Data/trad/2019-20_all_trad.csv\")\n",
    "df_19_trad.drop(['Unnamed: 0','TEAM'], axis = 1, inplace = True)\n",
    "df_19_trad.dropna(inplace = True)\n",
    "\n",
    "df_19_adv = pd.read_csv(\"./Data/adv/2019-20_all_adv.csv\")\n",
    "df_19_adv.drop(['Unnamed: 0', 'TEAM'], axis = 1, inplace = True)\n",
    "df_19_adv.dropna(inplace = True)\n",
    "\n",
    "df_19 = df_19_trad.merge(df_19_adv, on=['PLAYER','AGE','GP','W','L','MIN'])\n",
    "\n",
    "df_19 = df_19[~df_19.PLAYER.isin(df_19_tw.PLAYER)]\n",
    "\n",
    "df_19_tw.drop('PLAYER', axis = 1, inplace = True)\n",
    "df_19.drop('PLAYER', axis = 1, inplace = True)"
   ]
  },
  {
   "cell_type": "code",
   "execution_count": 21,
   "id": "47c95b5c",
   "metadata": {},
   "outputs": [
    {
     "data": {
      "text/plain": [
       "17"
      ]
     },
     "execution_count": 21,
     "metadata": {},
     "output_type": "execute_result"
    }
   ],
   "source": [
    "len(df_19)\n",
    "len(df_19_tw)"
   ]
  },
  {
   "cell_type": "markdown",
   "id": "77b20ffc",
   "metadata": {},
   "source": [
    "### 2018-2019"
   ]
  },
  {
   "cell_type": "code",
   "execution_count": 22,
   "id": "553e1759",
   "metadata": {},
   "outputs": [],
   "source": [
    "df_18_trad_tw = pd.read_csv(\"./Data/tw_trad/2018-19_twoWay_trad.csv\")\n",
    "df_18_trad_tw.drop(['Unnamed: 0', 'TEAM'], axis = 1, inplace = True)\n",
    "df_18_trad_tw.dropna(inplace = True)\n",
    "\n",
    "df_18_adv_tw = pd.read_csv(\"./Data/tw_adv/2018-19_twoWay_adv.csv\")\n",
    "df_18_adv_tw.drop(['Unnamed: 0', 'TEAM'], axis = 1, inplace = True)\n",
    "df_18_adv_tw.dropna(inplace = True)\n",
    "\n",
    "df_18_tw = df_18_trad_tw.merge(df_18_adv_tw, on=['PLAYER','AGE','GP','W','L','MIN'])\n",
    "\n",
    "df_18_trad = pd.read_csv(\"./Data/trad/2018-19_all_trad.csv\")\n",
    "df_18_trad.drop(['Unnamed: 0','TEAM'], axis = 1, inplace = True)\n",
    "df_18_trad.dropna(inplace = True)\n",
    "\n",
    "df_18_adv = pd.read_csv(\"./Data/adv/2018-19_all_adv.csv\")\n",
    "df_18_adv.drop(['Unnamed: 0', 'TEAM'], axis = 1, inplace = True)\n",
    "df_18_adv.dropna(inplace = True)\n",
    "\n",
    "df_18 = df_18_trad.merge(df_18_adv, on=['PLAYER','AGE','GP','W','L','MIN'])\n",
    "\n",
    "df_18 = df_18[~df_18.PLAYER.isin(df_18_tw.PLAYER)]\n",
    "\n",
    "df_18_tw.drop('PLAYER', axis = 1, inplace = True)\n",
    "df_18.drop('PLAYER', axis = 1, inplace = True)"
   ]
  },
  {
   "cell_type": "code",
   "execution_count": 24,
   "id": "3777e276",
   "metadata": {},
   "outputs": [
    {
     "data": {
      "text/plain": [
       "5"
      ]
     },
     "execution_count": 24,
     "metadata": {},
     "output_type": "execute_result"
    }
   ],
   "source": [
    "len(df_18)\n",
    "len(df_18_tw)"
   ]
  },
  {
   "cell_type": "markdown",
   "id": "4449992f",
   "metadata": {},
   "source": [
    "### 2017-2018"
   ]
  },
  {
   "cell_type": "code",
   "execution_count": 25,
   "id": "e0ad5f99",
   "metadata": {},
   "outputs": [],
   "source": [
    "df_17_trad_tw = pd.read_csv(\"./Data/tw_trad/2017-18_twoWay_trad.csv\")\n",
    "df_17_trad_tw.drop(['Unnamed: 0', 'TEAM'], axis = 1, inplace = True)\n",
    "df_17_trad_tw.dropna(inplace = True)\n",
    "\n",
    "df_17_adv_tw = pd.read_csv(\"./Data/tw_adv/2017-18_twoWay_adv.csv\")\n",
    "df_17_adv_tw.drop(['Unnamed: 0', 'TEAM'], axis = 1, inplace = True)\n",
    "df_17_adv_tw.dropna(inplace = True)\n",
    "\n",
    "df_17_tw = df_17_trad_tw.merge(df_17_adv_tw, on=['PLAYER','AGE','GP','W','L','MIN'])\n",
    "\n",
    "df_17_trad = pd.read_csv(\"./Data/trad/2017-18_all_trad.csv\")\n",
    "df_17_trad.drop(['Unnamed: 0','TEAM'], axis = 1, inplace = True)\n",
    "df_17_trad.dropna(inplace = True)\n",
    "\n",
    "df_17_adv = pd.read_csv(\"./Data/adv/2017-18_all_adv.csv\")\n",
    "df_17_adv.drop(['Unnamed: 0', 'TEAM'], axis = 1, inplace = True)\n",
    "df_17_adv.dropna(inplace = True)\n",
    "\n",
    "df_17 = df_17_trad.merge(df_17_adv, on=['PLAYER','AGE','GP','W','L','MIN'])\n",
    "\n",
    "df_17 = df_17[~df_17.PLAYER.isin(df_17_tw.PLAYER)]\n",
    "\n",
    "df_17_tw.drop('PLAYER', axis = 1, inplace = True)\n",
    "df_17.drop('PLAYER', axis = 1, inplace = True)"
   ]
  },
  {
   "cell_type": "code",
   "execution_count": 27,
   "id": "374c70d2",
   "metadata": {},
   "outputs": [
    {
     "data": {
      "text/plain": [
       "1"
      ]
     },
     "execution_count": 27,
     "metadata": {},
     "output_type": "execute_result"
    }
   ],
   "source": [
    "len(df_17)\n",
    "len(df_17_tw)"
   ]
  },
  {
   "cell_type": "markdown",
   "id": "19532713",
   "metadata": {},
   "source": [
    "### Combining data in the past 5 seasons of the two-way contracts players"
   ]
  },
  {
   "cell_type": "code",
   "execution_count": 28,
   "id": "8d30f2e0",
   "metadata": {
    "scrolled": true
   },
   "outputs": [
    {
     "data": {
      "text/html": [
       "<div>\n",
       "<style scoped>\n",
       "    .dataframe tbody tr th:only-of-type {\n",
       "        vertical-align: middle;\n",
       "    }\n",
       "\n",
       "    .dataframe tbody tr th {\n",
       "        vertical-align: top;\n",
       "    }\n",
       "\n",
       "    .dataframe thead th {\n",
       "        text-align: right;\n",
       "    }\n",
       "</style>\n",
       "<table border=\"1\" class=\"dataframe\">\n",
       "  <thead>\n",
       "    <tr style=\"text-align: right;\">\n",
       "      <th></th>\n",
       "      <th>AGE</th>\n",
       "      <th>GP</th>\n",
       "      <th>W</th>\n",
       "      <th>L</th>\n",
       "      <th>MIN</th>\n",
       "      <th>PTS</th>\n",
       "      <th>FGM</th>\n",
       "      <th>FGA</th>\n",
       "      <th>FG%</th>\n",
       "      <th>3PM</th>\n",
       "      <th>...</th>\n",
       "      <th>AST RATIO</th>\n",
       "      <th>OREB%</th>\n",
       "      <th>DREB%</th>\n",
       "      <th>REB%</th>\n",
       "      <th>TO RATIO</th>\n",
       "      <th>EFG%</th>\n",
       "      <th>TS%</th>\n",
       "      <th>USG%</th>\n",
       "      <th>PACE</th>\n",
       "      <th>PIE</th>\n",
       "    </tr>\n",
       "  </thead>\n",
       "  <tbody>\n",
       "    <tr>\n",
       "      <th>0</th>\n",
       "      <td>23.0</td>\n",
       "      <td>12.0</td>\n",
       "      <td>8.0</td>\n",
       "      <td>4.0</td>\n",
       "      <td>25.2</td>\n",
       "      <td>10.3</td>\n",
       "      <td>3.1</td>\n",
       "      <td>9.9</td>\n",
       "      <td>31.1</td>\n",
       "      <td>1.3</td>\n",
       "      <td>...</td>\n",
       "      <td>18.1</td>\n",
       "      <td>1.8</td>\n",
       "      <td>16.0</td>\n",
       "      <td>8.6</td>\n",
       "      <td>12.1</td>\n",
       "      <td>37.8</td>\n",
       "      <td>45.0</td>\n",
       "      <td>22.2</td>\n",
       "      <td>104.40</td>\n",
       "      <td>6.3</td>\n",
       "    </tr>\n",
       "    <tr>\n",
       "      <th>0</th>\n",
       "      <td>23.0</td>\n",
       "      <td>26.0</td>\n",
       "      <td>12.0</td>\n",
       "      <td>14.0</td>\n",
       "      <td>36.9</td>\n",
       "      <td>22.1</td>\n",
       "      <td>8.5</td>\n",
       "      <td>17.4</td>\n",
       "      <td>48.6</td>\n",
       "      <td>2.3</td>\n",
       "      <td>...</td>\n",
       "      <td>20.6</td>\n",
       "      <td>3.4</td>\n",
       "      <td>14.4</td>\n",
       "      <td>8.9</td>\n",
       "      <td>9.6</td>\n",
       "      <td>55.1</td>\n",
       "      <td>57.6</td>\n",
       "      <td>23.7</td>\n",
       "      <td>104.84</td>\n",
       "      <td>13.3</td>\n",
       "    </tr>\n",
       "    <tr>\n",
       "      <th>1</th>\n",
       "      <td>23.0</td>\n",
       "      <td>34.0</td>\n",
       "      <td>23.0</td>\n",
       "      <td>11.0</td>\n",
       "      <td>35.6</td>\n",
       "      <td>20.7</td>\n",
       "      <td>7.3</td>\n",
       "      <td>16.3</td>\n",
       "      <td>44.6</td>\n",
       "      <td>3.1</td>\n",
       "      <td>...</td>\n",
       "      <td>22.5</td>\n",
       "      <td>1.8</td>\n",
       "      <td>12.2</td>\n",
       "      <td>7.1</td>\n",
       "      <td>12.8</td>\n",
       "      <td>54.2</td>\n",
       "      <td>57.8</td>\n",
       "      <td>22.1</td>\n",
       "      <td>110.38</td>\n",
       "      <td>12.4</td>\n",
       "    </tr>\n",
       "    <tr>\n",
       "      <th>2</th>\n",
       "      <td>24.0</td>\n",
       "      <td>34.0</td>\n",
       "      <td>18.0</td>\n",
       "      <td>16.0</td>\n",
       "      <td>34.5</td>\n",
       "      <td>13.9</td>\n",
       "      <td>5.1</td>\n",
       "      <td>13.0</td>\n",
       "      <td>39.7</td>\n",
       "      <td>1.8</td>\n",
       "      <td>...</td>\n",
       "      <td>16.7</td>\n",
       "      <td>2.9</td>\n",
       "      <td>14.2</td>\n",
       "      <td>8.3</td>\n",
       "      <td>12.3</td>\n",
       "      <td>46.5</td>\n",
       "      <td>49.4</td>\n",
       "      <td>19.1</td>\n",
       "      <td>101.30</td>\n",
       "      <td>8.4</td>\n",
       "    </tr>\n",
       "    <tr>\n",
       "      <th>3</th>\n",
       "      <td>23.0</td>\n",
       "      <td>47.0</td>\n",
       "      <td>25.0</td>\n",
       "      <td>22.0</td>\n",
       "      <td>33.5</td>\n",
       "      <td>13.2</td>\n",
       "      <td>4.9</td>\n",
       "      <td>11.2</td>\n",
       "      <td>43.8</td>\n",
       "      <td>1.8</td>\n",
       "      <td>...</td>\n",
       "      <td>34.1</td>\n",
       "      <td>1.7</td>\n",
       "      <td>11.9</td>\n",
       "      <td>6.8</td>\n",
       "      <td>12.0</td>\n",
       "      <td>51.6</td>\n",
       "      <td>54.3</td>\n",
       "      <td>18.3</td>\n",
       "      <td>104.34</td>\n",
       "      <td>11.3</td>\n",
       "    </tr>\n",
       "  </tbody>\n",
       "</table>\n",
       "<p>5 rows × 42 columns</p>\n",
       "</div>"
      ],
      "text/plain": [
       "    AGE    GP     W     L   MIN   PTS  FGM   FGA   FG%  3PM  ...  AST RATIO  \\\n",
       "0  23.0  12.0   8.0   4.0  25.2  10.3  3.1   9.9  31.1  1.3  ...       18.1   \n",
       "0  23.0  26.0  12.0  14.0  36.9  22.1  8.5  17.4  48.6  2.3  ...       20.6   \n",
       "1  23.0  34.0  23.0  11.0  35.6  20.7  7.3  16.3  44.6  3.1  ...       22.5   \n",
       "2  24.0  34.0  18.0  16.0  34.5  13.9  5.1  13.0  39.7  1.8  ...       16.7   \n",
       "3  23.0  47.0  25.0  22.0  33.5  13.2  4.9  11.2  43.8  1.8  ...       34.1   \n",
       "\n",
       "   OREB%  DREB%  REB%  TO RATIO  EFG%   TS%  USG%    PACE   PIE  \n",
       "0    1.8   16.0   8.6      12.1  37.8  45.0  22.2  104.40   6.3  \n",
       "0    3.4   14.4   8.9       9.6  55.1  57.6  23.7  104.84  13.3  \n",
       "1    1.8   12.2   7.1      12.8  54.2  57.8  22.1  110.38  12.4  \n",
       "2    2.9   14.2   8.3      12.3  46.5  49.4  19.1  101.30   8.4  \n",
       "3    1.7   11.9   6.8      12.0  51.6  54.3  18.3  104.34  11.3  \n",
       "\n",
       "[5 rows x 42 columns]"
      ]
     },
     "execution_count": 28,
     "metadata": {},
     "output_type": "execute_result"
    }
   ],
   "source": [
    "l_df_tw = [df_17_tw, df_18_tw, df_19_tw, df_20_tw, df_21_tw]\n",
    "df_tw = pd.concat(l_df_tw, axis = 0, join = \"inner\")\n",
    "df_tw.head()"
   ]
  },
  {
   "cell_type": "code",
   "execution_count": 29,
   "id": "37e4ffd3",
   "metadata": {},
   "outputs": [
    {
     "data": {
      "text/plain": [
       "77"
      ]
     },
     "execution_count": 29,
     "metadata": {},
     "output_type": "execute_result"
    }
   ],
   "source": [
    "len(df_tw)"
   ]
  },
  {
   "cell_type": "code",
   "execution_count": 32,
   "id": "873ea052",
   "metadata": {
    "scrolled": true
   },
   "outputs": [
    {
     "data": {
      "text/plain": [
       "AGE          0\n",
       "GP           0\n",
       "W            0\n",
       "L            0\n",
       "MIN          0\n",
       "PTS          0\n",
       "FGM          0\n",
       "FGA          0\n",
       "FG%          0\n",
       "3PM          0\n",
       "3PA          0\n",
       "3P%          0\n",
       "FTM          0\n",
       "FTA          0\n",
       "FT%          0\n",
       "OREB         0\n",
       "DREB         0\n",
       "REB          0\n",
       "AST          0\n",
       "TOV          0\n",
       "STL          0\n",
       "BLK          0\n",
       "PF           0\n",
       "FP           0\n",
       "DD2          0\n",
       "TD3          0\n",
       "+/-          0\n",
       "OFFRTG       0\n",
       "DEFRTG       0\n",
       "NETRTG       0\n",
       "AST%         0\n",
       "AST/TO       0\n",
       "AST RATIO    0\n",
       "OREB%        0\n",
       "DREB%        0\n",
       "REB%         0\n",
       "TO RATIO     0\n",
       "EFG%         0\n",
       "TS%          0\n",
       "USG%         0\n",
       "PACE         0\n",
       "PIE          0\n",
       "dtype: int64"
      ]
     },
     "execution_count": 32,
     "metadata": {},
     "output_type": "execute_result"
    }
   ],
   "source": [
    "df_tw.isna().sum()"
   ]
  },
  {
   "cell_type": "code",
   "execution_count": 34,
   "id": "99f4a39e",
   "metadata": {},
   "outputs": [],
   "source": [
    "df_tw.to_csv('Data/twoWay_5yrs.csv', index = False)"
   ]
  },
  {
   "cell_type": "markdown",
   "id": "3fe6af41",
   "metadata": {},
   "source": [
    "### Combining data in the past 5 seasons of all G-league players, except for the two way contracts ones"
   ]
  },
  {
   "cell_type": "code",
   "execution_count": 30,
   "id": "171841ee",
   "metadata": {},
   "outputs": [
    {
     "data": {
      "text/html": [
       "<div>\n",
       "<style scoped>\n",
       "    .dataframe tbody tr th:only-of-type {\n",
       "        vertical-align: middle;\n",
       "    }\n",
       "\n",
       "    .dataframe tbody tr th {\n",
       "        vertical-align: top;\n",
       "    }\n",
       "\n",
       "    .dataframe thead th {\n",
       "        text-align: right;\n",
       "    }\n",
       "</style>\n",
       "<table border=\"1\" class=\"dataframe\">\n",
       "  <thead>\n",
       "    <tr style=\"text-align: right;\">\n",
       "      <th></th>\n",
       "      <th>AGE</th>\n",
       "      <th>GP</th>\n",
       "      <th>W</th>\n",
       "      <th>L</th>\n",
       "      <th>MIN</th>\n",
       "      <th>PTS</th>\n",
       "      <th>FGM</th>\n",
       "      <th>FGA</th>\n",
       "      <th>FG%</th>\n",
       "      <th>3PM</th>\n",
       "      <th>...</th>\n",
       "      <th>AST RATIO</th>\n",
       "      <th>OREB%</th>\n",
       "      <th>DREB%</th>\n",
       "      <th>REB%</th>\n",
       "      <th>TO RATIO</th>\n",
       "      <th>EFG%</th>\n",
       "      <th>TS%</th>\n",
       "      <th>USG%</th>\n",
       "      <th>PACE</th>\n",
       "      <th>PIE</th>\n",
       "    </tr>\n",
       "  </thead>\n",
       "  <tbody>\n",
       "    <tr>\n",
       "      <th>0</th>\n",
       "      <td>24</td>\n",
       "      <td>1</td>\n",
       "      <td>0</td>\n",
       "      <td>1</td>\n",
       "      <td>39.6</td>\n",
       "      <td>34.0</td>\n",
       "      <td>10.0</td>\n",
       "      <td>16.0</td>\n",
       "      <td>62.5</td>\n",
       "      <td>2.0</td>\n",
       "      <td>...</td>\n",
       "      <td>0.0</td>\n",
       "      <td>5.4</td>\n",
       "      <td>5.9</td>\n",
       "      <td>5.6</td>\n",
       "      <td>4.5</td>\n",
       "      <td>68.8</td>\n",
       "      <td>79.9</td>\n",
       "      <td>21.2</td>\n",
       "      <td>117.67</td>\n",
       "      <td>16.6</td>\n",
       "    </tr>\n",
       "    <tr>\n",
       "      <th>1</th>\n",
       "      <td>21</td>\n",
       "      <td>32</td>\n",
       "      <td>17</td>\n",
       "      <td>15</td>\n",
       "      <td>38.2</td>\n",
       "      <td>32.0</td>\n",
       "      <td>11.0</td>\n",
       "      <td>24.0</td>\n",
       "      <td>45.9</td>\n",
       "      <td>2.8</td>\n",
       "      <td>...</td>\n",
       "      <td>11.4</td>\n",
       "      <td>1.8</td>\n",
       "      <td>14.3</td>\n",
       "      <td>8.2</td>\n",
       "      <td>8.5</td>\n",
       "      <td>51.8</td>\n",
       "      <td>57.9</td>\n",
       "      <td>33.1</td>\n",
       "      <td>102.48</td>\n",
       "      <td>15.7</td>\n",
       "    </tr>\n",
       "    <tr>\n",
       "      <th>2</th>\n",
       "      <td>21</td>\n",
       "      <td>2</td>\n",
       "      <td>1</td>\n",
       "      <td>1</td>\n",
       "      <td>41.3</td>\n",
       "      <td>29.5</td>\n",
       "      <td>8.0</td>\n",
       "      <td>19.0</td>\n",
       "      <td>42.1</td>\n",
       "      <td>3.5</td>\n",
       "      <td>...</td>\n",
       "      <td>3.4</td>\n",
       "      <td>3.9</td>\n",
       "      <td>20.5</td>\n",
       "      <td>12.3</td>\n",
       "      <td>13.8</td>\n",
       "      <td>51.3</td>\n",
       "      <td>60.2</td>\n",
       "      <td>29.6</td>\n",
       "      <td>97.14</td>\n",
       "      <td>12.6</td>\n",
       "    </tr>\n",
       "    <tr>\n",
       "      <th>3</th>\n",
       "      <td>24</td>\n",
       "      <td>1</td>\n",
       "      <td>0</td>\n",
       "      <td>1</td>\n",
       "      <td>36.4</td>\n",
       "      <td>29.0</td>\n",
       "      <td>11.0</td>\n",
       "      <td>22.0</td>\n",
       "      <td>50.0</td>\n",
       "      <td>6.0</td>\n",
       "      <td>...</td>\n",
       "      <td>7.4</td>\n",
       "      <td>0.0</td>\n",
       "      <td>17.1</td>\n",
       "      <td>7.7</td>\n",
       "      <td>3.7</td>\n",
       "      <td>63.6</td>\n",
       "      <td>61.0</td>\n",
       "      <td>27.5</td>\n",
       "      <td>112.14</td>\n",
       "      <td>12.5</td>\n",
       "    </tr>\n",
       "    <tr>\n",
       "      <th>4</th>\n",
       "      <td>32</td>\n",
       "      <td>24</td>\n",
       "      <td>13</td>\n",
       "      <td>11</td>\n",
       "      <td>37.2</td>\n",
       "      <td>28.2</td>\n",
       "      <td>8.8</td>\n",
       "      <td>19.8</td>\n",
       "      <td>44.5</td>\n",
       "      <td>4.1</td>\n",
       "      <td>...</td>\n",
       "      <td>14.8</td>\n",
       "      <td>1.1</td>\n",
       "      <td>8.6</td>\n",
       "      <td>4.6</td>\n",
       "      <td>8.4</td>\n",
       "      <td>55.0</td>\n",
       "      <td>60.9</td>\n",
       "      <td>26.3</td>\n",
       "      <td>106.84</td>\n",
       "      <td>13.2</td>\n",
       "    </tr>\n",
       "  </tbody>\n",
       "</table>\n",
       "<p>5 rows × 42 columns</p>\n",
       "</div>"
      ],
      "text/plain": [
       "   AGE  GP   W   L   MIN   PTS   FGM   FGA   FG%  3PM  ...  AST RATIO  OREB%  \\\n",
       "0   24   1   0   1  39.6  34.0  10.0  16.0  62.5  2.0  ...        0.0    5.4   \n",
       "1   21  32  17  15  38.2  32.0  11.0  24.0  45.9  2.8  ...       11.4    1.8   \n",
       "2   21   2   1   1  41.3  29.5   8.0  19.0  42.1  3.5  ...        3.4    3.9   \n",
       "3   24   1   0   1  36.4  29.0  11.0  22.0  50.0  6.0  ...        7.4    0.0   \n",
       "4   32  24  13  11  37.2  28.2   8.8  19.8  44.5  4.1  ...       14.8    1.1   \n",
       "\n",
       "   DREB%  REB%  TO RATIO  EFG%   TS%  USG%    PACE   PIE  \n",
       "0    5.9   5.6       4.5  68.8  79.9  21.2  117.67  16.6  \n",
       "1   14.3   8.2       8.5  51.8  57.9  33.1  102.48  15.7  \n",
       "2   20.5  12.3      13.8  51.3  60.2  29.6   97.14  12.6  \n",
       "3   17.1   7.7       3.7  63.6  61.0  27.5  112.14  12.5  \n",
       "4    8.6   4.6       8.4  55.0  60.9  26.3  106.84  13.2  \n",
       "\n",
       "[5 rows x 42 columns]"
      ]
     },
     "execution_count": 30,
     "metadata": {},
     "output_type": "execute_result"
    }
   ],
   "source": [
    "l_df = [df_17, df_18, df_19, df_20, df_21]\n",
    "df = pd.concat(l_df, axis = 0, join = \"inner\")\n",
    "df.head()"
   ]
  },
  {
   "cell_type": "code",
   "execution_count": 31,
   "id": "f6c6d369",
   "metadata": {},
   "outputs": [
    {
     "data": {
      "text/plain": [
       "2076"
      ]
     },
     "execution_count": 31,
     "metadata": {},
     "output_type": "execute_result"
    }
   ],
   "source": [
    "len(df)"
   ]
  },
  {
   "cell_type": "code",
   "execution_count": 33,
   "id": "1ac68dc6",
   "metadata": {
    "scrolled": true
   },
   "outputs": [
    {
     "data": {
      "text/plain": [
       "AGE          0\n",
       "GP           0\n",
       "W            0\n",
       "L            0\n",
       "MIN          0\n",
       "PTS          0\n",
       "FGM          0\n",
       "FGA          0\n",
       "FG%          0\n",
       "3PM          0\n",
       "3PA          0\n",
       "3P%          0\n",
       "FTM          0\n",
       "FTA          0\n",
       "FT%          0\n",
       "OREB         0\n",
       "DREB         0\n",
       "REB          0\n",
       "AST          0\n",
       "TOV          0\n",
       "STL          0\n",
       "BLK          0\n",
       "PF           0\n",
       "FP           0\n",
       "DD2          0\n",
       "TD3          0\n",
       "+/-          0\n",
       "OFFRTG       0\n",
       "DEFRTG       0\n",
       "NETRTG       0\n",
       "AST%         0\n",
       "AST/TO       0\n",
       "AST RATIO    0\n",
       "OREB%        0\n",
       "DREB%        0\n",
       "REB%         0\n",
       "TO RATIO     0\n",
       "EFG%         0\n",
       "TS%          0\n",
       "USG%         0\n",
       "PACE         0\n",
       "PIE          0\n",
       "dtype: int64"
      ]
     },
     "execution_count": 33,
     "metadata": {},
     "output_type": "execute_result"
    }
   ],
   "source": [
    "df.isna().sum()"
   ]
  },
  {
   "cell_type": "code",
   "execution_count": 35,
   "id": "f7e78d6d",
   "metadata": {},
   "outputs": [],
   "source": [
    "df.to_csv('Data/restAll_5yrs.csv', index = False)"
   ]
  }
 ],
 "metadata": {
  "kernelspec": {
   "display_name": "Python 3 (ipykernel)",
   "language": "python",
   "name": "python3"
  },
  "language_info": {
   "codemirror_mode": {
    "name": "ipython",
    "version": 3
   },
   "file_extension": ".py",
   "mimetype": "text/x-python",
   "name": "python",
   "nbconvert_exporter": "python",
   "pygments_lexer": "ipython3",
   "version": "3.9.7"
  }
 },
 "nbformat": 4,
 "nbformat_minor": 5
}
